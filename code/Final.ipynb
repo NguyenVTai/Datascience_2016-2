{
 "cells": [
  {
   "cell_type": "code",
   "execution_count": 1,
   "metadata": {},
   "outputs": [],
   "source": [
    "import sklearn\n",
    "sklearn.__version__\n",
    "import numpy as np\n",
    "import pandas as pd\n",
    "\n",
    "from sklearn.model_selection import train_test_split\n",
    "from sklearn.preprocessing import OneHotEncoder, StandardScaler\n",
    "from sklearn.impute import SimpleImputer\n",
    "from sklearn.base import BaseEstimator, TransformerMixin\n",
    "from sklearn.pipeline import Pipeline, make_pipeline\n",
    "from sklearn.compose import ColumnTransformer, make_column_transformer\n",
    "from sklearn.neural_network import MLPClassifier"
   ]
  },
  {
   "cell_type": "code",
   "execution_count": 2,
   "metadata": {},
   "outputs": [
    {
     "data": {
      "text/html": [
       "<div>\n",
       "<style scoped>\n",
       "    .dataframe tbody tr th:only-of-type {\n",
       "        vertical-align: middle;\n",
       "    }\n",
       "\n",
       "    .dataframe tbody tr th {\n",
       "        vertical-align: top;\n",
       "    }\n",
       "\n",
       "    .dataframe thead th {\n",
       "        text-align: right;\n",
       "    }\n",
       "</style>\n",
       "<table border=\"1\" class=\"dataframe\">\n",
       "  <thead>\n",
       "    <tr style=\"text-align: right;\">\n",
       "      <th></th>\n",
       "      <th>time</th>\n",
       "      <th>month</th>\n",
       "      <th>temperature</th>\n",
       "      <th>feelslike</th>\n",
       "      <th>wind</th>\n",
       "      <th>direction</th>\n",
       "      <th>gust</th>\n",
       "      <th>cloud</th>\n",
       "      <th>humidity</th>\n",
       "      <th>precipitation</th>\n",
       "      <th>pressure</th>\n",
       "      <th>weather</th>\n",
       "    </tr>\n",
       "  </thead>\n",
       "  <tbody>\n",
       "    <tr>\n",
       "      <th>0</th>\n",
       "      <td>0:00</td>\n",
       "      <td>1</td>\n",
       "      <td>24.0</td>\n",
       "      <td>28.0</td>\n",
       "      <td>8.0</td>\n",
       "      <td>ENE</td>\n",
       "      <td>12.0</td>\n",
       "      <td>4.0</td>\n",
       "      <td>86.0</td>\n",
       "      <td>0.0</td>\n",
       "      <td>1012.0</td>\n",
       "      <td>Clear</td>\n",
       "    </tr>\n",
       "    <tr>\n",
       "      <th>1</th>\n",
       "      <td>3:00</td>\n",
       "      <td>1</td>\n",
       "      <td>23.0</td>\n",
       "      <td>27.0</td>\n",
       "      <td>8.0</td>\n",
       "      <td>NE</td>\n",
       "      <td>10.0</td>\n",
       "      <td>4.0</td>\n",
       "      <td>88.0</td>\n",
       "      <td>0.0</td>\n",
       "      <td>1011.0</td>\n",
       "      <td>Clear</td>\n",
       "    </tr>\n",
       "    <tr>\n",
       "      <th>2</th>\n",
       "      <td>6:00</td>\n",
       "      <td>1</td>\n",
       "      <td>23.0</td>\n",
       "      <td>26.0</td>\n",
       "      <td>8.0</td>\n",
       "      <td>NNE</td>\n",
       "      <td>11.0</td>\n",
       "      <td>7.0</td>\n",
       "      <td>85.0</td>\n",
       "      <td>0.0</td>\n",
       "      <td>1012.0</td>\n",
       "      <td>Sunny</td>\n",
       "    </tr>\n",
       "    <tr>\n",
       "      <th>3</th>\n",
       "      <td>9:00</td>\n",
       "      <td>1</td>\n",
       "      <td>28.0</td>\n",
       "      <td>33.0</td>\n",
       "      <td>11.0</td>\n",
       "      <td>NNE</td>\n",
       "      <td>13.0</td>\n",
       "      <td>6.0</td>\n",
       "      <td>64.0</td>\n",
       "      <td>0.0</td>\n",
       "      <td>1012.0</td>\n",
       "      <td>Sunny</td>\n",
       "    </tr>\n",
       "    <tr>\n",
       "      <th>4</th>\n",
       "      <td>12:00</td>\n",
       "      <td>1</td>\n",
       "      <td>31.0</td>\n",
       "      <td>35.0</td>\n",
       "      <td>10.0</td>\n",
       "      <td>ENE</td>\n",
       "      <td>12.0</td>\n",
       "      <td>62.0</td>\n",
       "      <td>53.0</td>\n",
       "      <td>0.0</td>\n",
       "      <td>1010.0</td>\n",
       "      <td>Partly cloudy</td>\n",
       "    </tr>\n",
       "  </tbody>\n",
       "</table>\n",
       "</div>"
      ],
      "text/plain": [
       "    time  month  temperature  feelslike  wind direction  gust  cloud  \\\n",
       "0   0:00      1         24.0       28.0   8.0       ENE  12.0    4.0   \n",
       "1   3:00      1         23.0       27.0   8.0        NE  10.0    4.0   \n",
       "2   6:00      1         23.0       26.0   8.0       NNE  11.0    7.0   \n",
       "3   9:00      1         28.0       33.0  11.0       NNE  13.0    6.0   \n",
       "4  12:00      1         31.0       35.0  10.0       ENE  12.0   62.0   \n",
       "\n",
       "   humidity  precipitation  pressure        weather  \n",
       "0      86.0            0.0    1012.0          Clear  \n",
       "1      88.0            0.0    1011.0          Clear  \n",
       "2      85.0            0.0    1012.0          Sunny  \n",
       "3      64.0            0.0    1012.0          Sunny  \n",
       "4      53.0            0.0    1010.0  Partly cloudy  "
      ]
     },
     "execution_count": 2,
     "metadata": {},
     "output_type": "execute_result"
    }
   ],
   "source": [
    "data = pd.read_csv(\"weather_data.csv\", delimiter = \";\")\n",
    "data.head()"
   ]
  },
  {
   "cell_type": "code",
   "execution_count": 3,
   "metadata": {},
   "outputs": [],
   "source": [
    "# Xếp loại các loại thời tiết thành 3 dạng là có mưa, mưa ít và không mưa\n",
    "list_norain = ['Clear', 'Cloudy', 'Mist', 'Sunny', 'Partly cloudy', 'Thundery outbreaks possible']\n",
    "list_ltrain = ['Light drizzle','Light rain','Light rain shower', 'Patchy light drizzle', 'Patchy light rain', 'Patchy light rain with thunder','Patchy rain possible']\n",
    "list_rain = ['Heavy rain','Heavy rain at times','Moderate or heavy rain shower','Moderate rain', 'Moderate rain at times', 'Overcast','Torrential rain shower']"
   ]
  },
  {
   "cell_type": "code",
   "execution_count": 4,
   "metadata": {},
   "outputs": [
    {
     "data": {
      "text/plain": [
       "'norain'"
      ]
     },
     "execution_count": 4,
     "metadata": {},
     "output_type": "execute_result"
    }
   ],
   "source": [
    "# Lấy ra cột y để train\n",
    "# Cột y này là giá trị thời tiết được xếp loại\n",
    "y = []\n",
    "for w in data.weather:\n",
    "    if w in list_norain:\n",
    "        y+= ['norain']\n",
    "    elif w in list_ltrain:\n",
    "        y+= ['ltrain']\n",
    "    elif w in list_rain:\n",
    "        y+= ['rain']\n",
    "    else:\n",
    "        y+= ['unknown']\n",
    "# Do input x có giá trị dự đoán là giá trị thời tiết của 3 giờ tiếp theo\n",
    "# nên chúng ta xóa dòng đầu tiên\n",
    "y.pop(0)"
   ]
  },
  {
   "cell_type": "code",
   "execution_count": 5,
   "metadata": {},
   "outputs": [],
   "source": [
    "# Do input x có giá trị dự đoán là giá trị thời tiết của 3 giờ tiếp theo nhưng không có giá trị đó nên xóa dòng cuối cùng\n",
    "x = data.drop(8511)"
   ]
  },
  {
   "cell_type": "code",
   "execution_count": 6,
   "metadata": {},
   "outputs": [],
   "source": [
    "# Tách tập train và tập test\n",
    "x_train, x_test, y_train, y_test = train_test_split(x, y, test_size = 0.1, stratify = y, random_state=0)"
   ]
  },
  {
   "cell_type": "code",
   "execution_count": 7,
   "metadata": {},
   "outputs": [],
   "source": [
    "# Tách tập train và tập validation\n",
    "x_train, x_val, y_train, y_val = train_test_split(x_train, y_train, test_size = 0.2, stratify = y_train, random_state=0)"
   ]
  },
  {
   "cell_type": "code",
   "execution_count": 8,
   "metadata": {},
   "outputs": [],
   "source": [
    "# Góm nhóm các giá trị của các cột có kiểu category\n",
    "# Cột month gom thành 2 giá trị gồm \"mua\" (5->11) và \"kho\" (12->4)\n",
    "# Cột direction thì xóa bỏ kí tự đầu tiên nếu vượt quá 2 ký tự\n",
    "# Cột weather thì gom nhóm giống như khi gom nhóm y\n",
    "class ColStd(BaseEstimator, TransformerMixin):\n",
    "    def fit(self, X_df, y=None):\n",
    "        return self\n",
    "    def transform(self, x_df,y=None):\n",
    "        df = x_df\n",
    "        temp_month =[]\n",
    "        for x in df['month']:\n",
    "            if x in [5,6,7,8,9,10,11]:\n",
    "                temp_month += ['mua'] \n",
    "            elif x in [12,1,2,3,4]:\n",
    "                temp_month += ['kho']\n",
    "            else:\n",
    "                temp_month += ['kho']\n",
    "        df.month = temp_month\n",
    "        temp_dic = []\n",
    "        for x in df['direction']:\n",
    "            if len(x) == 3:\n",
    "                temp_dic += [x[1:]]\n",
    "            else:\n",
    "                temp_dic += [x]\n",
    "        df.direction = temp_dic\n",
    "        temp_wea = []\n",
    "        for w in df['weather']:\n",
    "            if w in list_norain:\n",
    "                temp_wea+= ['norain']\n",
    "            elif w in list_ltrain:\n",
    "                temp_wea+= ['ltrain']\n",
    "            elif w in list_rain:\n",
    "                temp_wea+= ['rain']\n",
    "            else:\n",
    "                temp_wea+= ['unknown']\n",
    "        df.weather = temp_wea\n",
    "        return df"
   ]
  },
  {
   "cell_type": "code",
   "execution_count": 9,
   "metadata": {},
   "outputs": [],
   "source": [
    "# Tạo các Pipeline để tiền xử lý các giá trị có trong dữ liệu\n",
    "nume_cols_zero = ['temperature', 'feelslike', 'wind', 'gust', 'cloud', 'humidity', 'pressure']\n",
    "nume_cols_nan = ['temperature', 'feelslike', 'wind', 'gust', 'cloud', 'humidity','precipitation', 'pressure']\n",
    "cate_cols = ['time', 'month', 'direction', 'weather']\n",
    "\n",
    "nume_trans_zero = Pipeline(steps=[\n",
    "    ('imputer', SimpleImputer(missing_values = 0, strategy='mean'))\n",
    "])\n",
    "nume_trans_nan = Pipeline(steps=[\n",
    "    ('imputer', SimpleImputer(missing_values = np.nan, strategy = 'mean'))\n",
    "])\n",
    "cate_trans = Pipeline(steps=[\n",
    "    ('imputer', SimpleImputer(strategy= 'most_frequent')),\n",
    "    ('onehot', OneHotEncoder(dtype=int, handle_unknown= 'ignore'))\n",
    "])\n",
    "\n",
    "cols_trans = ColumnTransformer(\n",
    "    transformers=[\n",
    "        ('nume_nan', nume_trans_nan, nume_cols_nan),\n",
    "        ('nume_zero',nume_trans_zero, nume_cols_zero),\n",
    "        ('cate', cate_trans, cate_cols)\n",
    "])\n",
    "\n",
    "preprocess_pipeline = Pipeline(steps=[\n",
    "    ('colstd', ColStd()),\n",
    "    ('coltrans', cols_trans),\n",
    "    ('std', StandardScaler())\n",
    "])\n",
    "\n",
    "# Tiền xử lý tập train x\n",
    "preprocessed_train_X = preprocess_pipeline.fit_transform(x_train)"
   ]
  },
  {
   "cell_type": "code",
   "execution_count": 10,
   "metadata": {},
   "outputs": [],
   "source": [
    "# Tiền xử lý tập validation x\n",
    "preprocess_val_X = preprocess_pipeline.transform(x_train)"
   ]
  },
  {
   "cell_type": "code",
   "execution_count": 11,
   "metadata": {},
   "outputs": [],
   "source": [
    "# Tạo ra full_pipeline bao gồm tiền xử lý và model\n",
    "full_pipeline = Pipeline(steps=[\n",
    "    ('pre', preprocess_pipeline),\n",
    "    ('mlpclf', MLPClassifier(activation='tanh', solver='lbfgs', random_state=0, max_iter=500))\n",
    "])\n",
    "#hidden_layer_sizes = (10, 20, 50, 100)"
   ]
  },
  {
   "cell_type": "code",
   "execution_count": 20,
   "metadata": {},
   "outputs": [
    {
     "name": "stdout",
     "output_type": "stream",
     "text": [
      "0.1, 10\n",
      "0.1, 50\n",
      "0.1, 100\n",
      "1, 10\n",
      "1, 50\n",
      "1, 100\n",
      "10, 10\n",
      "10, 50\n",
      "10, 100\n",
      "100, 10\n",
      "100, 50\n",
      "100, 100\n",
      "1000, 10\n",
      "1000, 50\n",
      "1000, 100\n"
     ]
    }
   ],
   "source": [
    "# train và tìm ra các tham số tốt nhất\n",
    "train_errs = []\n",
    "val_errs = []\n",
    "alphas = [0.1, 1, 10, 100, 1000]\n",
    "hidden_layer_sizes = [10, 50, 100]\n",
    "best_val_err = float('inf'); best_alpha = None; best_hls = None;\n",
    "for alpha in alphas:\n",
    "    for hls in hidden_layer_sizes:\n",
    "        print(f\"{alpha}, {hls}\")\n",
    "        full_pipeline.set_params(mlpclf__alpha=alpha, mlpclf__hidden_layer_sizes=hls)\n",
    "        full_pipeline.fit(x_train,y_train)\n",
    "        train_err =100*(1 - full_pipeline.score(x_train,y_train))\n",
    "        val_err =100*(1 - full_pipeline.score(x_val,y_val))\n",
    "        train_errs += [train_err]\n",
    "        val_errs +=[val_err]\n",
    "        if ((val_err < best_val_err)):\n",
    "            best_val_err = val_err\n",
    "            best_alpha = alpha\n",
    "            best_hls = hls\n"
   ]
  },
  {
   "cell_type": "code",
   "execution_count": 21,
   "metadata": {},
   "outputs": [
    {
     "name": "stdout",
     "output_type": "stream",
     "text": [
      "50\n"
     ]
    }
   ],
   "source": [
    "print(best_hls)"
   ]
  },
  {
   "cell_type": "code",
   "execution_count": 14,
   "metadata": {},
   "outputs": [
    {
     "data": {
      "text/plain": [
       "Pipeline(memory=None,\n",
       "         steps=[('pre',\n",
       "                 Pipeline(memory=None,\n",
       "                          steps=[('colstd', ColStd()),\n",
       "                                 ('coltrans',\n",
       "                                  ColumnTransformer(n_jobs=None,\n",
       "                                                    remainder='drop',\n",
       "                                                    sparse_threshold=0.3,\n",
       "                                                    transformer_weights=None,\n",
       "                                                    transformers=[('nume_nan',\n",
       "                                                                   Pipeline(memory=None,\n",
       "                                                                            steps=[('imputer',\n",
       "                                                                                    SimpleImputer(add_indicator=False,\n",
       "                                                                                                  copy=True,\n",
       "                                                                                                  fill_value=None,\n",
       "                                                                                                  missing_values=nan,\n",
       "                                                                                                  strategy='mean',\n",
       "                                                                                                  ve...\n",
       "                 MLPClassifier(activation='tanh', alpha=10, batch_size='auto',\n",
       "                               beta_1=0.9, beta_2=0.999, early_stopping=False,\n",
       "                               epsilon=1e-08, hidden_layer_sizes=100,\n",
       "                               learning_rate='constant',\n",
       "                               learning_rate_init=0.001, max_iter=500,\n",
       "                               momentum=0.9, n_iter_no_change=10,\n",
       "                               nesterovs_momentum=True, power_t=0.5,\n",
       "                               random_state=0, shuffle=True, solver='lbfgs',\n",
       "                               tol=0.0001, validation_fraction=0.1,\n",
       "                               verbose=False, warm_start=False))],\n",
       "         verbose=False)"
      ]
     },
     "execution_count": 14,
     "metadata": {},
     "output_type": "execute_result"
    }
   ],
   "source": [
    "# Nối tập train và val lại, sau đó train model cuối cùng\n",
    "X = pd.concat((x_train, x_val), axis=0)\n",
    "Y = np.concatenate((y_train, y_val), axis=0)\n",
    "full_pipeline.set_params(mlpclf__alpha=10)\n",
    "full_pipeline.fit(X, Y)"
   ]
  },
  {
   "cell_type": "code",
   "execution_count": 15,
   "metadata": {},
   "outputs": [
    {
     "name": "stderr",
     "output_type": "stream",
     "text": [
      "C:\\Users\\Dell\\Anaconda3\\lib\\site-packages\\pandas\\core\\generic.py:5096: SettingWithCopyWarning: \n",
      "A value is trying to be set on a copy of a slice from a DataFrame.\n",
      "Try using .loc[row_indexer,col_indexer] = value instead\n",
      "\n",
      "See the caveats in the documentation: http://pandas.pydata.org/pandas-docs/stable/indexing.html#indexing-view-versus-copy\n",
      "  self[name] = value\n"
     ]
    },
    {
     "data": {
      "text/plain": [
       "0.8169014084507042"
      ]
     },
     "execution_count": 15,
     "metadata": {},
     "output_type": "execute_result"
    }
   ],
   "source": [
    "full_pipeline.score(x_test, y_test)"
   ]
  }
 ],
 "metadata": {
  "kernelspec": {
   "display_name": "Python 3",
   "language": "python",
   "name": "python3"
  },
  "language_info": {
   "codemirror_mode": {
    "name": "ipython",
    "version": 3
   },
   "file_extension": ".py",
   "mimetype": "text/x-python",
   "name": "python",
   "nbconvert_exporter": "python",
   "pygments_lexer": "ipython3",
   "version": "3.7.3"
  }
 },
 "nbformat": 4,
 "nbformat_minor": 2
}
