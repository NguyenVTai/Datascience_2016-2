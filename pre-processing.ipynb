{
 "cells": [
  {
   "cell_type": "code",
   "execution_count": 1,
   "metadata": {},
   "outputs": [],
   "source": [
    "import numpy as np\n",
    "import pandas as pd"
   ]
  },
  {
   "cell_type": "code",
   "execution_count": 2,
   "metadata": {
    "scrolled": true
   },
   "outputs": [
    {
     "data": {
      "text/html": [
       "<div>\n",
       "<style scoped>\n",
       "    .dataframe tbody tr th:only-of-type {\n",
       "        vertical-align: middle;\n",
       "    }\n",
       "\n",
       "    .dataframe tbody tr th {\n",
       "        vertical-align: top;\n",
       "    }\n",
       "\n",
       "    .dataframe thead th {\n",
       "        text-align: right;\n",
       "    }\n",
       "</style>\n",
       "<table border=\"1\" class=\"dataframe\">\n",
       "  <thead>\n",
       "    <tr style=\"text-align: right;\">\n",
       "      <th></th>\n",
       "      <th>time</th>\n",
       "      <th>month</th>\n",
       "      <th>temperature</th>\n",
       "      <th>wind</th>\n",
       "      <th>humidity</th>\n",
       "      <th>barometer</th>\n",
       "      <th>weather</th>\n",
       "    </tr>\n",
       "  </thead>\n",
       "  <tbody>\n",
       "    <tr>\n",
       "      <th>0</th>\n",
       "      <td>0.5</td>\n",
       "      <td>1</td>\n",
       "      <td>23</td>\n",
       "      <td>9</td>\n",
       "      <td>83</td>\n",
       "      <td>1010</td>\n",
       "      <td>Passing clouds</td>\n",
       "    </tr>\n",
       "    <tr>\n",
       "      <th>1</th>\n",
       "      <td>1.0</td>\n",
       "      <td>1</td>\n",
       "      <td>23</td>\n",
       "      <td>6</td>\n",
       "      <td>83</td>\n",
       "      <td>1009</td>\n",
       "      <td>Passing clouds</td>\n",
       "    </tr>\n",
       "    <tr>\n",
       "      <th>2</th>\n",
       "      <td>1.5</td>\n",
       "      <td>1</td>\n",
       "      <td>23</td>\n",
       "      <td>7</td>\n",
       "      <td>83</td>\n",
       "      <td>1009</td>\n",
       "      <td>Passing clouds</td>\n",
       "    </tr>\n",
       "    <tr>\n",
       "      <th>3</th>\n",
       "      <td>2.5</td>\n",
       "      <td>1</td>\n",
       "      <td>23</td>\n",
       "      <td>6</td>\n",
       "      <td>83</td>\n",
       "      <td>1009</td>\n",
       "      <td>Passing clouds</td>\n",
       "    </tr>\n",
       "    <tr>\n",
       "      <th>4</th>\n",
       "      <td>3.0</td>\n",
       "      <td>1</td>\n",
       "      <td>23</td>\n",
       "      <td>6</td>\n",
       "      <td>78</td>\n",
       "      <td>1009</td>\n",
       "      <td>Passing clouds</td>\n",
       "    </tr>\n",
       "  </tbody>\n",
       "</table>\n",
       "</div>"
      ],
      "text/plain": [
       "   time  month  temperature  wind  humidity  barometer         weather\n",
       "0   0.5      1           23     9        83       1010  Passing clouds\n",
       "1   1.0      1           23     6        83       1009  Passing clouds\n",
       "2   1.5      1           23     7        83       1009  Passing clouds\n",
       "3   2.5      1           23     6        83       1009  Passing clouds\n",
       "4   3.0      1           23     6        78       1009  Passing clouds"
      ]
     },
     "execution_count": 2,
     "metadata": {},
     "output_type": "execute_result"
    }
   ],
   "source": [
    "data = pd.read_csv(\"wth_data.csv\", delimiter = ';')\n",
    "del data['visibility']\n",
    "data.head()"
   ]
  },
  {
   "cell_type": "code",
   "execution_count": 3,
   "metadata": {},
   "outputs": [],
   "source": [
    "thunder = set(['Strong thunderstorms Broken clouds', 'Strong thunderstorms More clouds than sun','Strong thunderstorms Mostly cloudy', 'Strong thunderstorms Partly cloudy','Strong thunderstorms Scattered clouds','Thundershowers Broken clouds','Thundershowers Partly cloudy',\n",
    " 'Thundershowers Passing clouds',\n",
    " 'Thundershowers Scattered clouds',\n",
    " 'Thunderstorms Broken clouds',\n",
    " 'Thunderstorms Fog',\n",
    " 'Thunderstorms More clouds than sun',\n",
    " 'Thunderstorms Mostly cloudy',\n",
    " 'Thunderstorms Partly cloudy',\n",
    " 'Thunderstorms Partly sunny',\n",
    " 'Thunderstorms Passing clouds',\n",
    " 'Thunderstorms Scattered clouds'])\n",
    "cloud = set(['Broken clouds',\n",
    "'Cloudy',\n",
    "'More clouds than sun',\n",
    " 'Mostly cloudy',\n",
    " 'Partly cloudy',\n",
    "'Passing clouds',\n",
    "'Scattered clouds',\n",
    "])\n",
    "clear = set(['Extremely hot', 'Clear'\n",
    "'Hot',\n",
    "'Mild',\n",
    "'Sunny',\n",
    "'Warm',\n",
    "'Partly sunny'])\n",
    "rain = set(['Sprinkles Broken clouds',\n",
    " 'Sprinkles More clouds than sun',\n",
    " 'Sprinkles Partly cloudy',\n",
    " 'Sprinkles Partly sunny',\n",
    " 'Sprinkles Passing clouds',\n",
    " 'Sprinkles Scattered clouds',\n",
    "'Scattered showers Broken clouds',\n",
    " 'Scattered showers Partly cloudy',\n",
    " 'Scattered showers Partly sunny',\n",
    " 'Scattered showers Passing clouds',\n",
    " 'Scattered showers Scattered clouds'\n",
    "'Drizzle Mostly cloudy',\n",
    "'Heavy rain Mostly cloudy',\n",
    " 'Heavy rain Overcast',\n",
    " 'Heavy rain Passing clouds',\n",
    "'Light rain Broken clouds',\n",
    " 'Light rain Fog',\n",
    " 'Light rain More clouds than sun',\n",
    " 'Light rain Mostly cloudy',\n",
    " 'Light rain Overcast',\n",
    " 'Light rain Partly cloudy',\n",
    " 'Light rain Partly sunny',\n",
    " 'Light rain Passing clouds',\n",
    " 'Light rain Scattered clouds',\n",
    " 'Lots of rain Broken clouds',\n",
    " 'Lots of rain More clouds than sun',\n",
    " 'Lots of rain Mostly cloudy',\n",
    " 'Lots of rain Partly cloudy',\n",
    " 'Lots of rain Partly sunny',\n",
    " 'Lots of rain Passing clouds',\n",
    " 'Lots of rain Scattered clouds',\n",
    "'Rain Fog',\n",
    " 'Rain More clouds than sun',\n",
    " 'Rain Mostly cloudy',\n",
    " 'Rain Partly cloudy',\n",
    " 'Rain showers Broken clouds',\n",
    " 'Rain showers Fog',\n",
    " 'Rain showers More clouds than sun',\n",
    " 'Rain showers Mostly cloudy',\n",
    " 'Rain showers Partly cloudy',\n",
    " 'Rain showers Partly sunny',\n",
    " 'Rain showers Passing clouds',\n",
    " 'Rain showers Scattered clouds'])\n",
    "fog = set(['Fog',\n",
    "'Smoke',\n",
    "'Haze'])"
   ]
  },
  {
   "cell_type": "code",
   "execution_count": 4,
   "metadata": {},
   "outputs": [
    {
     "name": "stderr",
     "output_type": "stream",
     "text": [
      "C:\\Users\\DELL\\Anaconda3\\lib\\site-packages\\ipykernel_launcher.py:3: SettingWithCopyWarning: \n",
      "A value is trying to be set on a copy of a slice from a DataFrame\n",
      "\n",
      "See the caveats in the documentation: http://pandas.pydata.org/pandas-docs/stable/indexing.html#indexing-view-versus-copy\n",
      "  This is separate from the ipykernel package so we can avoid doing imports until\n"
     ]
    }
   ],
   "source": [
    "for i in range(len(data['time'])):\n",
    "    if data['barometer'][i] == 0:\n",
    "        data['barometer'][i] = data.median().barometer\n"
   ]
  },
  {
   "cell_type": "code",
   "execution_count": 5,
   "metadata": {},
   "outputs": [],
   "source": [
    "max_tem = data.max().temperature\n",
    "min_tem = data.min().temperature\n",
    "max_wd = data.max().wind\n",
    "min_wd = data.min().wind\n",
    "max_hmdt = data.max().humidity\n",
    "min_hmdt = data.min().humidity\n",
    "max_brmt = data.max().barometer\n",
    "min_brmt = data.min().barometer\n"
   ]
  },
  {
   "cell_type": "code",
   "execution_count": 6,
   "metadata": {},
   "outputs": [],
   "source": [
    "def chuan_hoa(data, max_tem, min_tem, max_wd, min_wd, max_hmdt, min_hmdt, max_brmt, min_brmt):\n",
    "    data['temperature'] = (data['temperature'] - min_tem)/(max_tem - min_tem)\n",
    "    data['wind']= (data['wind'] - min_wd)/(max_wd - min_wd)\n",
    "    data['humidity'] = (data['humidity'] - min_hmdt)/(max_hmdt - min_hmdt)\n",
    "    data['barometer'] = (data['barometer'] - min_brmt)/(max_brmt - min_brmt)"
   ]
  },
  {
   "cell_type": "code",
   "execution_count": 7,
   "metadata": {},
   "outputs": [],
   "source": [
    "def mapping_wth(data):\n",
    "    weather_int = pd.Series()\n",
    "    for x in data['weather']:\n",
    "        x = pd.Series([0*int(x in thunder) + 1*int(x in rain) + 2*int(x in cloud)+ 3*int(x in clear)+ 4*int(x in fog)],index = [0])\n",
    "        weather_int = weather_int.append(x,ignore_index=True)\n",
    "    data['weather']= weather_int"
   ]
  },
  {
   "cell_type": "code",
   "execution_count": 8,
   "metadata": {},
   "outputs": [],
   "source": [
    "chuan_hoa(data, max_tem, min_tem, max_wd, min_wd, max_hmdt, min_hmdt, max_brmt, min_brmt)"
   ]
  },
  {
   "cell_type": "code",
   "execution_count": 9,
   "metadata": {},
   "outputs": [],
   "source": [
    "mapping_wth(data)"
   ]
  },
  {
   "cell_type": "code",
   "execution_count": 10,
   "metadata": {},
   "outputs": [],
   "source": [
    "x = data.weather.iloc[data.index>0]\n",
    "data = data.drop(16606)\n",
    "data = data.assign(label = x.values)"
   ]
  },
  {
   "cell_type": "code",
   "execution_count": 11,
   "metadata": {},
   "outputs": [],
   "source": [
    "filetrain='preprocessed_train_data.csv' \n",
    "filetest ='preprocessed_test_data.csv'"
   ]
  },
  {
   "cell_type": "code",
   "execution_count": 12,
   "metadata": {},
   "outputs": [],
   "source": [
    "with open(filetrain,'w') as f:\n",
    "    f.write('time\\tmonth\\ttemperature\\twind\\tbarometer\\weather\\tlabel\\n')\n",
    "    for i in range(len(data)):\n",
    "        f.write(f\"{data['time'][i]}\\t{data['month'][i]}\\t{data['temperature'][i]}\\t{data['wind'][i]}\\t{data['barometer'][i]}\\t{data['weather'][i]}\\t{data['label'][i]}\\n\")\n"
   ]
  },
  {
   "cell_type": "code",
   "execution_count": 13,
   "metadata": {
    "scrolled": true
   },
   "outputs": [],
   "source": [
    "data2 = pd.read_csv(\"testdata.csv\", delimiter = ';')\n",
    "del data2['visibility']"
   ]
  },
  {
   "cell_type": "code",
   "execution_count": 14,
   "metadata": {},
   "outputs": [],
   "source": [
    "for i in range(len(data2['time'])):\n",
    "    if data2['barometer'][i] == 0:\n",
    "        data2['barometer'][i] = data2.median().barometer"
   ]
  },
  {
   "cell_type": "code",
   "execution_count": 15,
   "metadata": {},
   "outputs": [],
   "source": [
    "max_tem2 = data2.max().temperature\n",
    "min_tem2 = data2.min().temperature\n",
    "max_wd2 = data2.max().wind\n",
    "min_wd2 = data2.min().wind\n",
    "max_hmdt2 = data2.max().humidity\n",
    "min_hmdt2 = data2.min().humidity\n",
    "max_brmt2 = data2.max().barometer\n",
    "min_brmt2 = data2.min().barometer"
   ]
  },
  {
   "cell_type": "code",
   "execution_count": 16,
   "metadata": {
    "scrolled": true
   },
   "outputs": [],
   "source": [
    "chuan_hoa(data2, max_tem2, min_tem2, max_wd2, min_wd2, max_hmdt2, min_hmdt2, max_brmt2, min_brmt2)"
   ]
  },
  {
   "cell_type": "code",
   "execution_count": 17,
   "metadata": {},
   "outputs": [],
   "source": [
    "mapping_wth(data2)"
   ]
  },
  {
   "cell_type": "code",
   "execution_count": 18,
   "metadata": {},
   "outputs": [],
   "source": [
    "x2 = data2.weather.iloc[data2.index>0]\n",
    "data2 = data2.drop(65)\n",
    "data2 = data2.assign(label = x2.values)"
   ]
  },
  {
   "cell_type": "code",
   "execution_count": 20,
   "metadata": {},
   "outputs": [],
   "source": [
    "with open(filetest,'w') as f:\n",
    "    f.write('time\\tmonth\\ttemperature\\twind\\tbarometer\\tweather\\tlabel\\n')\n",
    "    for i in range(len(data2)):\n",
    "        f.write(f\"{data2['time'][i]}\\t{data2['month'][i]}\\t{data2['temperature'][i]}\\t{data2['wind'][i]}\\t{data2['barometer'][i]}\\t{data2['weather'][i]}\\t{data2['label'][i]}\\n\")\n"
   ]
  }
 ],
 "metadata": {
  "kernelspec": {
   "display_name": "Python 3",
   "language": "python",
   "name": "python3"
  },
  "language_info": {
   "codemirror_mode": {
    "name": "ipython",
    "version": 3
   },
   "file_extension": ".py",
   "mimetype": "text/x-python",
   "name": "python",
   "nbconvert_exporter": "python",
   "pygments_lexer": "ipython3",
   "version": "3.6.5"
  }
 },
 "nbformat": 4,
 "nbformat_minor": 2
}
